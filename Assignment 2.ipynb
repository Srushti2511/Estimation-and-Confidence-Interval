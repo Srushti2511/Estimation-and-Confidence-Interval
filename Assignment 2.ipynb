{
 "cells": [
  {
   "cell_type": "code",
   "execution_count": 13,
   "id": "6849cee4",
   "metadata": {},
   "outputs": [],
   "source": [
    "# Step 1: Import necessary libraries\n",
    "from scipy import stats\n",
    "import pandas as pd\n",
    "import numpy as np"
   ]
  },
  {
   "cell_type": "code",
   "execution_count": 14,
   "id": "c5165f36",
   "metadata": {},
   "outputs": [],
   "source": [
    "# Step 2: Create or input your sample data\n",
    "data = np.array([1.13, 1.55, 1.43, 0.92, 1.25, 1.36, 1.32, 0.85, 1.07, 1.48,\n",
    "        1.20, 1.33, 1.18, 1.22, 1.29])"
   ]
  },
  {
   "cell_type": "code",
   "execution_count": 15,
   "id": "f3c39095",
   "metadata": {},
   "outputs": [],
   "source": [
    "# Build 99% Confidence Interval Using Sample Standard Deviation"
   ]
  },
  {
   "cell_type": "code",
   "execution_count": 22,
   "id": "282baf8e",
   "metadata": {},
   "outputs": [
    {
     "name": "stdout",
     "output_type": "stream",
     "text": [
      "99% Confidence Interval: (1.090197338451367, 1.3871359948819662)\n"
     ]
    }
   ],
   "source": [
    "# Step 3: Set sample size\n",
    "n=15\n",
    "\n",
    "# Average of the sample data\n",
    "mean=data.mean()\n",
    "\n",
    "# Step 5: Calculate the standard error of the mean \n",
    "std_err = data.std(ddof=1)/np.sqrt(n)\n",
    "\n",
    "# Step 6: Calculate the 99% confidence interval using t-distribution\n",
    "t_confidence_interval = stats.t.interval(0.99,df=n-1,loc=mean,scale=std_err)\n",
    "\n",
    "# Step 7: Print the confidence interval\n",
    "print(\"99% Confidence Interval:\", t_confidence_interval)\n"
   ]
  },
  {
   "cell_type": "code",
   "execution_count": 17,
   "id": "1c99fb87",
   "metadata": {},
   "outputs": [],
   "source": [
    "# Build 99% Confidence Interval Using Known Population Standard Deviation"
   ]
  },
  {
   "cell_type": "code",
   "execution_count": 24,
   "id": "3be9a48a",
   "metadata": {},
   "outputs": [
    {
     "name": "stdout",
     "output_type": "stream",
     "text": [
      "99% Confidence Interval: (1.1056514133957607, 1.3716819199375725)\n"
     ]
    }
   ],
   "source": [
    "#Set sample size\n",
    "n = 15\n",
    "mean = np.mean(data)\n",
    "\n",
    "# Known population standard deviation\n",
    "pop_std = 0.2\n",
    "std_err = pop_std / np.sqrt(n)\n",
    "\n",
    "# 99% Confidence Interval using z-distribution\n",
    "z_confidence_interval = stats.norm.interval(0.99, loc=mean, scale=std_err)\n",
    "\n",
    "# Print the confidence interval\n",
    "print(\"99% Confidence Interval:\", z_confidence_interval)\n"
   ]
  },
  {
   "cell_type": "code",
   "execution_count": null,
   "id": "a21f8a09",
   "metadata": {},
   "outputs": [],
   "source": [
    " "
   ]
  },
  {
   "cell_type": "code",
   "execution_count": null,
   "id": "372cd57d",
   "metadata": {},
   "outputs": [],
   "source": []
  },
  {
   "cell_type": "code",
   "execution_count": null,
   "id": "cfa901f8",
   "metadata": {},
   "outputs": [],
   "source": []
  },
  {
   "cell_type": "code",
   "execution_count": null,
   "id": "a20aee1e",
   "metadata": {},
   "outputs": [],
   "source": []
  },
  {
   "cell_type": "code",
   "execution_count": 54,
   "id": "d6942464",
   "metadata": {},
   "outputs": [],
   "source": []
  },
  {
   "cell_type": "code",
   "execution_count": null,
   "id": "870573e3",
   "metadata": {},
   "outputs": [],
   "source": []
  },
  {
   "cell_type": "code",
   "execution_count": null,
   "id": "d0ae6241",
   "metadata": {},
   "outputs": [],
   "source": []
  },
  {
   "cell_type": "code",
   "execution_count": null,
   "id": "9103037e",
   "metadata": {},
   "outputs": [],
   "source": []
  },
  {
   "cell_type": "code",
   "execution_count": null,
   "id": "732242df",
   "metadata": {},
   "outputs": [],
   "source": []
  },
  {
   "cell_type": "code",
   "execution_count": null,
   "id": "8fa305a5",
   "metadata": {},
   "outputs": [],
   "source": []
  },
  {
   "cell_type": "code",
   "execution_count": null,
   "id": "12cc86b4",
   "metadata": {},
   "outputs": [],
   "source": []
  },
  {
   "cell_type": "code",
   "execution_count": null,
   "id": "93ea85a3",
   "metadata": {},
   "outputs": [],
   "source": []
  }
 ],
 "metadata": {
  "kernelspec": {
   "display_name": "Python 3 (ipykernel)",
   "language": "python",
   "name": "python3"
  },
  "language_info": {
   "codemirror_mode": {
    "name": "ipython",
    "version": 3
   },
   "file_extension": ".py",
   "mimetype": "text/x-python",
   "name": "python",
   "nbconvert_exporter": "python",
   "pygments_lexer": "ipython3",
   "version": "3.11.5"
  }
 },
 "nbformat": 4,
 "nbformat_minor": 5
}
